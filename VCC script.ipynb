{
 "cells": [
  {
   "cell_type": "markdown",
   "metadata": {},
   "source": [
    "\n"
   ]
  },
  {
   "cell_type": "markdown",
   "metadata": {},
   "source": [
    "# Load libraries"
   ]
  },
  {
   "cell_type": "code",
   "execution_count": 4,
   "metadata": {},
   "outputs": [],
   "source": [
    "import numpy as np\n",
    "import pandas as pd\n",
    "import os\n",
    "import datetime\n",
    "\n",
    "# Specify git executable file for GitPython in Jupyter Notebook (In IDE, it can still work without this line.)\n",
    "# os.environ[\"GIT_PYTHON_GIT_EXECUTABLE\"] = \"C:\\Program Files\\Git\\cmd\\git.exe\"\n",
    "\n",
    "import git\n",
    "from git import RemoteProgress\n",
    "\n",
    "from git import Repo\n",
    "import matplotlib.pyplot as plt\n",
    "import seaborn as sns\n",
    "%matplotlib inline"
   ]
  },
  {
   "cell_type": "markdown",
   "metadata": {},
   "source": [
    "# Clone repo from GitHub"
   ]
  },
  {
   "cell_type": "markdown",
   "metadata": {},
   "source": [
    "Link: https://git-scm.com/docs/git-clone <br>\n",
    "<b>Note:</b> In case too-long file path issue occurs in Windows, set <code>git config --system core.longpaths true</code>"
   ]
  },
  {
   "cell_type": "code",
   "execution_count": 8,
   "metadata": {},
   "outputs": [],
   "source": [
    "class Progress(RemoteProgress):\n",
    "    def update(self, op_code, cur_count, max_count=None, message=''):\n",
    "        print(self._cur_line)"
   ]
  },
  {
   "cell_type": "code",
   "execution_count": 12,
   "metadata": {},
   "outputs": [],
   "source": [
    "remote_link = \"https://github.com/jenkinsci/jenkins\"\n",
    "local_link = \"jenkins\"\n",
    "# Uncomment to clone\n",
    "#Repo.clone_from(remote_link, local_link, progress=Progress())"
   ]
  },
  {
   "cell_type": "code",
   "execution_count": 13,
   "metadata": {},
   "outputs": [],
   "source": [
    "repo = Repo(local_link)\n",
    "fixing_commit = \"7b1f8e96a8d97dd09e5e093fcdb010b3295acc77\"\n",
    "affected_file = \"core/src/main/java/hudson/model/User.java\""
   ]
  },
  {
   "cell_type": "markdown",
   "metadata": {},
   "source": [
    "# Task 3"
   ]
  },
  {
   "cell_type": "markdown",
   "metadata": {},
   "source": [
    "## a. Deleted line"
   ]
  },
  {
   "cell_type": "code",
   "execution_count": 83,
   "metadata": {},
   "outputs": [
    {
     "name": "stdout",
     "output_type": "stream",
     "text": [
      "7b1f8e96a8d (rysteboe 2017-09-07 16:32:10 -0400 340)             return Collections.unmodifiableList(properties);\n"
     ]
    }
   ],
   "source": [
    "# git blame -L 340,340 User.java\n",
    "show_data = repo.git.blame(\"-L340,+1\", affected_file).splitlines()\n",
    "for line in show_data:\n",
    "    print(line)"
   ]
  },
  {
   "cell_type": "markdown",
   "metadata": {},
   "source": [
    "## b. Added lines"
   ]
  },
  {
   "cell_type": "code",
   "execution_count": 86,
   "metadata": {},
   "outputs": [
    {
     "name": "stdout",
     "output_type": "stream",
     "text": [
      "7b1f8e96a8d (rysteboe 2017-09-07 16:32:10 -0400 339)         if (hasPermission(Jenkins.ADMINISTER)) {\n",
      "7b1f8e96a8d (rysteboe 2017-09-07 16:32:10 -0400 340)             return Collections.unmodifiableList(properties);\n",
      "7b1f8e96a8d (rysteboe 2017-09-07 16:32:10 -0400 341)         }\n",
      "7b1f8e96a8d (rysteboe 2017-09-07 16:32:10 -0400 342) \n",
      "7b1f8e96a8d (rysteboe 2017-09-07 16:32:10 -0400 343)         return Collections.emptyList();\n"
     ]
    }
   ],
   "source": [
    "# git blame -L 340,340 User.java\n",
    "show_data = repo.git.blame(\"-L339,+5\", affected_file).splitlines()\n",
    "for line in show_data:\n",
    "    print(line)"
   ]
  },
  {
   "cell_type": "markdown",
   "metadata": {},
   "source": [
    "# Tast 5"
   ]
  },
  {
   "cell_type": "markdown",
   "metadata": {},
   "source": [
    "## a. Title and message"
   ]
  },
  {
   "cell_type": "code",
   "execution_count": 23,
   "metadata": {},
   "outputs": [
    {
     "name": "stdout",
     "output_type": "stream",
     "text": [
      "commit 7b1f8e96a8d97dd09e5e093fcdb010b3295acc77\n",
      "Author: rysteboe <Sicarri@users.noreply.github.com>\n",
      "Date:   Thu Sep 7 16:32:10 2017 -0400\n",
      "\n",
      "    [SECURITY-514] Restrict access to user properties via the api to admins\n"
     ]
    }
   ],
   "source": [
    "show_data = repo.git.show(\"-s\", fixing_commit).splitlines()\n",
    "for line in show_data:\n",
    "    print(line)"
   ]
  },
  {
   "cell_type": "markdown",
   "metadata": {},
   "source": [
    "## b. How many total files were affected in the current VCC"
   ]
  },
  {
   "cell_type": "code",
   "execution_count": 24,
   "metadata": {},
   "outputs": [
    {
     "name": "stdout",
     "output_type": "stream",
     "text": [
      " core/src/main/java/hudson/model/User.java     |  6 +++++-\n",
      " test/src/test/java/hudson/model/UserTest.java | 30 +++++++++++++++++++++++++++\n",
      " 2 files changed, 35 insertions(+), 1 deletion(-)\n"
     ]
    }
   ],
   "source": [
    "show_data = repo.git.diff(\"--stat\", fixing_commit+\"^\", fixing_commit).splitlines()\n",
    "for line in show_data:\n",
    "    print(line)"
   ]
  },
  {
   "cell_type": "markdown",
   "metadata": {},
   "source": [
    "## c. How many total directories were affected in the current VCC"
   ]
  },
  {
   "cell_type": "code",
   "execution_count": null,
   "metadata": {},
   "outputs": [],
   "source": [
    "show_data = repo.git.diff(\"--stat\", fixing_commit+\"^\", fixing_commit).splitlines()\n",
    "for line in show_data:\n",
    "    print(line)"
   ]
  },
  {
   "cell_type": "markdown",
   "metadata": {},
   "source": [
    "## d. How many total lines of code (including comments and blank lines) were deleted"
   ]
  },
  {
   "cell_type": "code",
   "execution_count": 77,
   "metadata": {},
   "outputs": [
    {
     "name": "stdout",
     "output_type": "stream",
     "text": [
      " core/src/main/java/hudson/model/User.java     |  6 +++++-\n",
      " test/src/test/java/hudson/model/UserTest.java | 30 +++++++++++++++++++++++++++\n",
      " 2 files changed, 35 insertions(+), 1 deletion(-)\n"
     ]
    }
   ],
   "source": [
    "show_data = repo.git.diff(\"--stat\", fixing_commit+\"^\", fixing_commit).splitlines()\n",
    "for line in show_data:\n",
    "    print(line)"
   ]
  },
  {
   "cell_type": "markdown",
   "metadata": {},
   "source": [
    "## e. How many total lines of code (including comments and blank lines) were added"
   ]
  },
  {
   "cell_type": "code",
   "execution_count": 78,
   "metadata": {},
   "outputs": [
    {
     "name": "stdout",
     "output_type": "stream",
     "text": [
      " core/src/main/java/hudson/model/User.java     |  6 +++++-\n",
      " test/src/test/java/hudson/model/UserTest.java | 30 +++++++++++++++++++++++++++\n",
      " 2 files changed, 35 insertions(+), 1 deletion(-)\n"
     ]
    }
   ],
   "source": [
    "show_data = repo.git.diff(\"--stat\", fixing_commit+\"^\", fixing_commit).splitlines()\n",
    "for line in show_data:\n",
    "    print(line)"
   ]
  },
  {
   "cell_type": "markdown",
   "metadata": {},
   "source": [
    "## f. How many total lines of code (excluding comments and blank lines) were deleted"
   ]
  },
  {
   "cell_type": "code",
   "execution_count": 79,
   "metadata": {},
   "outputs": [
    {
     "name": "stdout",
     "output_type": "stream",
     "text": [
      " core/src/main/java/hudson/model/User.java     |  4 ++++\n",
      " test/src/test/java/hudson/model/UserTest.java | 30 +++++++++++++++++++++++++++\n",
      " 2 files changed, 34 insertions(+)\n"
     ]
    }
   ],
   "source": [
    "show_data = repo.git.diff(\"--stat\",'-w', fixing_commit+\"^\", fixing_commit).splitlines()\n",
    "for line in show_data:\n",
    "    print(line)"
   ]
  },
  {
   "cell_type": "markdown",
   "metadata": {},
   "source": [
    "## g. How many total lines of code (excluding comments and blank lines) were added"
   ]
  },
  {
   "cell_type": "code",
   "execution_count": 80,
   "metadata": {},
   "outputs": [
    {
     "name": "stdout",
     "output_type": "stream",
     "text": [
      " core/src/main/java/hudson/model/User.java     |  4 ++++\n",
      " test/src/test/java/hudson/model/UserTest.java | 30 +++++++++++++++++++++++++++\n",
      " 2 files changed, 34 insertions(+)\n"
     ]
    }
   ],
   "source": [
    "show_data = repo.git.diff(\"--stat\",'-w', fixing_commit+\"^\", fixing_commit).splitlines()\n",
    "for line in show_data:\n",
    "    print(line)"
   ]
  },
  {
   "cell_type": "markdown",
   "metadata": {},
   "source": [
    "## h. How  many  days  were  between  the  current  VCC  and  the previous commit of each affected file"
   ]
  },
  {
   "cell_type": "code",
   "execution_count": 45,
   "metadata": {},
   "outputs": [
    {
     "name": "stdout",
     "output_type": "stream",
     "text": [
      "5\n"
     ]
    }
   ],
   "source": [
    "# git log -1 --pretty=format:\"%ad\" --date=short 7b1f8e96a8d9\n",
    "# git log -1 --pretty=format:\"%ad\" --date=short --before=\"2017-09-07\" UserTest.java\n",
    "    \n",
    "VCC_date = repo.git.log('-1','--pretty=format:\"%ad\"','--date=short', fixing_commit).splitlines()[0].replace('\"', \"\")\n",
    "previous_commit_date = repo.git.log('-1','--pretty=format:\"%ad\"','--date=short','--before='+VCC_date, affected_file).splitlines()[0].replace('\"', \"\")\n",
    "days = datetime.datetime.strptime(VCC_date, '%Y-%m-%d') - datetime.datetime.strptime(previous_commit_date, '%Y-%m-%d')\n",
    "print(days.days)"
   ]
  },
  {
   "cell_type": "markdown",
   "metadata": {},
   "source": [
    "## i. How  many  times  has  each  affected  file  of  the  current  VCC been  modified  in  the  past  since  their  creation  (including rename of the file)"
   ]
  },
  {
   "cell_type": "code",
   "execution_count": 50,
   "metadata": {},
   "outputs": [
    {
     "name": "stdout",
     "output_type": "stream",
     "text": [
      "194\n"
     ]
    }
   ],
   "source": [
    "# git log --oneline --before=\"2017-09-07\" User.java | wc -l\n",
    "\n",
    "show_data = repo.git.log('--oneline','--before='+VCC_date, affected_file).splitlines()\n",
    "print(len(show_data))"
   ]
  },
  {
   "cell_type": "code",
   "execution_count": 54,
   "metadata": {},
   "outputs": [
    {
     "name": "stdout",
     "output_type": "stream",
     "text": [
      "\"Kohsuke Kawaguchi\"\n",
      "\"Baptiste Mathus\"\n",
      "\"Kanstantsin Shautsou\"\n",
      "\"Oliver Gondža\"\n",
      "\"Félix Belzunce Arcos\"\n",
      "\"Cyrille Le Clerc\"\n",
      "\"abayer\"\n",
      "\"Stephen Connolly\"\n",
      "\"redsolo\"\n",
      "\"Johannes Ernst\"\n",
      "\"Jesse Glick\"\n",
      "\"Ryan Campbell\"\n",
      "\"mindless\"\n",
      "\"Nicolas De Loof\"\n",
      "\"Robert Sandell\"\n",
      "\"Tom Huybrechts\"\n",
      "\"huybrechts\"\n",
      "\"Daniel Beck\"\n",
      "\"Nigel Magnay\"\n",
      "\"Seiji Sogabe\"\n",
      "\"David Hoover\"\n",
      "\"Oleg Nenashev\"\n",
      "\"Vincent Latombe\"\n",
      "\"christ66\"\n",
      "\"kohsuke\"\n",
      "\"OHTAKE Tomohiro\"\n",
      "\"jglick\"\n",
      "\"sogabe\"\n",
      "\"James Nord\"\n",
      "\"Josh Soref\"\n",
      "\"Christoph Kutzinski\"\n"
     ]
    }
   ],
   "source": [
    "# git log --pretty=format:\"%an\" --before=\"2017-09-07\" User.java \n",
    "\n",
    "show_data = set(repo.git.log('--pretty=format:\"%an\"','--before='+VCC_date, affected_file).splitlines())\n",
    "for line in show_data:\n",
    "    print(line)"
   ]
  },
  {
   "cell_type": "markdown",
   "metadata": {},
   "source": [
    "## k. For each developer identified, how many commits have each of them submitted"
   ]
  },
  {
   "cell_type": "code",
   "execution_count": 76,
   "metadata": {},
   "outputs": [
    {
     "name": "stdout",
     "output_type": "stream",
     "text": [
      "    58\tJesse Glick\n",
      "    57\tkohsuke\n",
      "    26\tDaniel Beck\n",
      "    18\tKohsuke Kawaguchi\n",
      "    12\tOleg Nenashev\n",
      "    12\tStephen Connolly\n",
      "     8\tNicolas De Loof\n",
      "     8\tWadeck Follonier\n",
      "     7\tmindless\n",
      "     6\tJames Nord\n",
      "     5\tRobert Sandell\n",
      "     3\tJosh Soref\n",
      "     3\tRyan Campbell\n",
      "     3\thuybrechts\n",
      "     2\tFélix Belzunce Arcos\n",
      "     2\tFrancisco Fernández\n",
      "     2\tJeff Thompson\n",
      "     2\tJohannes Ernst\n",
      "     2\tNigel Magnay\n",
      "     2\tchrist66\n",
      "     1\tBaptiste Mathus\n",
      "     1\tBasil Crow\n",
      "     1\tChristoph Kutzinski\n",
      "     1\tCyrille Le Clerc\n",
      "     1\tDavid Hoover\n",
      "     1\tKanstantsin Shautsou\n",
      "     1\tMatt Sicker\n",
      "     1\tOHTAKE Tomohiro\n",
      "     1\tOliver Gondža\n",
      "     1\tRebecca Ysteboe\n",
      "     1\tSeiji Sogabe\n",
      "     1\tStefan Spieker\n",
      "     1\tTom Huybrechts\n",
      "     1\tVincent Latombe\n",
      "     1\tabayer\n",
      "     1\tjglick\n",
      "     1\tredsolo\n",
      "     1\trysteboe\n",
      "     1\tsogabe\n"
     ]
    }
   ],
   "source": [
    "# git log --pretty=short --before=\"2017-09-07\" User.java | git shortlog -sn \n",
    "\n",
    "show_data = repo.git.shortlog('-sn',\"HEAD\", affected_file).splitlines()\n",
    "for line in show_data:\n",
    "    print(line)"
   ]
  }
 ],
 "metadata": {
  "kernelspec": {
   "display_name": "Python 3",
   "language": "python",
   "name": "python3"
  },
  "language_info": {
   "codemirror_mode": {
    "name": "ipython",
    "version": 3
   },
   "file_extension": ".py",
   "mimetype": "text/x-python",
   "name": "python",
   "nbconvert_exporter": "python",
   "pygments_lexer": "ipython3",
   "version": "3.8.5"
  }
 },
 "nbformat": 4,
 "nbformat_minor": 4
}
